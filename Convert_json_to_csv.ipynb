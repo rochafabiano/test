{
 "cells": [
  {
   "cell_type": "code",
   "execution_count": 3,
   "metadata": {},
   "outputs": [],
   "source": [
    "%reload_ext autoreload\n",
    "%autoreload 2\n",
    "%matplotlib inline"
   ]
  },
  {
   "cell_type": "code",
   "execution_count": 4,
   "metadata": {},
   "outputs": [],
   "source": [
    "from fastai.conv_learner import *"
   ]
  },
  {
   "cell_type": "code",
   "execution_count": 9,
   "metadata": {},
   "outputs": [],
   "source": [
    "train_json = '''{ \"anottations\": [\n",
    "        {\n",
    "            \"labelId\": [\n",
    "                \"62\", \n",
    "                \"17\", \n",
    "                \"66\", \n",
    "                \"214\", \n",
    "                \"105\", \n",
    "                \"137\", \n",
    "                \"85\"\n",
    "            ], \n",
    "            \"imageId\": \"1\"\n",
    "        }, \n",
    "        {\n",
    "            \"labelId\": [\n",
    "                \"95\", \n",
    "                \"17\", \n",
    "                \"66\", \n",
    "                \"214\", \n",
    "                \"164\", \n",
    "                \"137\", \n",
    "                \"20\", \n",
    "                \"204\", \n",
    "                \"184\"\n",
    "            ], \n",
    "            \"imageId\": \"2\"\n",
    "        }\n",
    "            ]\n",
    "             }'''"
   ]
  },
  {
   "cell_type": "code",
   "execution_count": 7,
   "metadata": {},
   "outputs": [],
   "source": [
    "import json"
   ]
  },
  {
   "cell_type": "code",
   "execution_count": 11,
   "metadata": {},
   "outputs": [],
   "source": [
    "a = json.loads(train_json)"
   ]
  },
  {
   "cell_type": "code",
   "execution_count": 14,
   "metadata": {},
   "outputs": [],
   "source": [
    "b = [[item['imageId'], ' '.join(item['labelId'])] for item in a['anottations']]"
   ]
  },
  {
   "cell_type": "code",
   "execution_count": 15,
   "metadata": {},
   "outputs": [
    {
     "data": {
      "text/plain": [
       "[['1', '62 17 66 214 105 137 85'], ['2', '95 17 66 214 164 137 20 204 184']]"
      ]
     },
     "execution_count": 15,
     "metadata": {},
     "output_type": "execute_result"
    }
   ],
   "source": [
    "b"
   ]
  },
  {
   "cell_type": "code",
   "execution_count": null,
   "metadata": {},
   "outputs": [],
   "source": []
  }
 ],
 "metadata": {
  "kernelspec": {
   "display_name": "Python 3",
   "language": "python",
   "name": "python3"
  }
 },
 "nbformat": 4,
 "nbformat_minor": 2
}
